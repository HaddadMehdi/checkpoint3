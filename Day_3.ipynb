{
 "cells": [
  {
   "cell_type": "code",
   "execution_count": 1,
   "id": "308853e9-3e9a-4915-b43a-e089ce58488e",
   "metadata": {},
   "outputs": [
    {
     "name": "stdout",
     "output_type": "stream",
     "text": [
      "36\n"
     ]
    }
   ],
   "source": [
    "#************Question1:\n",
    "\n",
    "N=1\n",
    "liste=[2,3,6]\n",
    "for i in range(len(liste)):\n",
    "    N*=int(liste[i])\n",
    "    i=i+1\n",
    "     \n",
    "print(N)"
   ]
  },
  {
   "cell_type": "code",
   "execution_count": 2,
   "id": "6723b083-d6c8-41c2-b4e7-b4a23bc83848",
   "metadata": {},
   "outputs": [
    {
     "data": {
      "text/plain": [
       "[(2, 1), (1, 2), (2, 3), (4, 4), (2, 5)]"
      ]
     },
     "execution_count": 2,
     "metadata": {},
     "output_type": "execute_result"
    }
   ],
   "source": [
    "#************Question2:\n",
    "\n",
    "liste=[(2, 5), (1, 2), (4, 4), (2, 3), (2, 1)]\n",
    "sorted(liste,key=lambda N:N[1])"
   ]
  },
  {
   "cell_type": "code",
   "execution_count": 3,
   "id": "2cfc9dc1-9bea-44aa-bf77-ee4d65efb0db",
   "metadata": {},
   "outputs": [
    {
     "name": "stdout",
     "output_type": "stream",
     "text": [
      "{1: 1, 2: 4, 3: 9, 4: 16, 5: 25, 6: 36, 7: 49, 8: 64}\n"
     ]
    }
   ],
   "source": [
    "#************Question4:\n",
    "\n",
    "i=1\n",
    "d4={}\n",
    "while i<=8:\n",
    "    d={i:i*i}\n",
    "    i=i+1  \n",
    "    (d4.update(d),d)[1]\n",
    "print(d4)"
   ]
  },
  {
   "cell_type": "code",
   "execution_count": 4,
   "id": "b8d217c5-bb76-467e-9969-f7e5bb600f8f",
   "metadata": {},
   "outputs": [
    {
     "data": {
      "text/plain": [
       "[('item3', 24.5), ('item2', 15.1), ('item1', 12.2)]"
      ]
     },
     "execution_count": 4,
     "metadata": {},
     "output_type": "execute_result"
    }
   ],
   "source": [
    "#************Question5:\n",
    "\n",
    "liste2=[('item1', 12.20), ('item2', 15.10), ('item3', 24.5)]\n",
    "sorted(liste2,key=lambda N:N[1],reverse=True)\n"
   ]
  },
  {
   "cell_type": "code",
   "execution_count": 13,
   "id": "95839642-6693-41bc-aced-a66403ef13cb",
   "metadata": {},
   "outputs": [
    {
     "data": {
      "text/plain": [
       "{'a': 600, 'b': 700, 'c': 300, 'd': 400, 'F': 350}"
      ]
     },
     "execution_count": 13,
     "metadata": {},
     "output_type": "execute_result"
    }
   ],
   "source": [
    "#************Question3:\n",
    "\n",
    "d1 = {'a': 100, 'b': 500, 'c':300}\n",
    "d2 = {'a': 500, 'b': 200, 'd':400,'F':350}\n",
    "mydict2 = {}\n",
    "for i1 in d1.keys():\n",
    "    for i2 in d2.keys():\n",
    "        if i1==i2:mydict2[i1] = d1[i1]+d2[i2]\n",
    "                       \n",
    "d3=(d2.update(mydict2), d2)[1]\n",
    "d4=(d1.update(d3), d1)[1]\n",
    "\n",
    "d4\n"
   ]
  },
  {
   "cell_type": "code",
   "execution_count": null,
   "id": "1fc5e716-f4b7-4538-9631-1b290cb5192c",
   "metadata": {},
   "outputs": [],
   "source": []
  }
 ],
 "metadata": {
  "kernelspec": {
   "display_name": "Python 3 (ipykernel)",
   "language": "python",
   "name": "python3"
  },
  "language_info": {
   "codemirror_mode": {
    "name": "ipython",
    "version": 3
   },
   "file_extension": ".py",
   "mimetype": "text/x-python",
   "name": "python",
   "nbconvert_exporter": "python",
   "pygments_lexer": "ipython3",
   "version": "3.9.7"
  }
 },
 "nbformat": 4,
 "nbformat_minor": 5
}
